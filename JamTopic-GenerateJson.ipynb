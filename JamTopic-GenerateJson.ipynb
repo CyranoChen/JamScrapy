{
 "cells": [
  {
   "cell_type": "code",
   "execution_count": 1,
   "metadata": {},
   "outputs": [],
   "source": [
    "from sqlalchemy import create_engine, distinct\n",
    "from sqlalchemy.orm import sessionmaker\n",
    "\n",
    "from JamScrapy import config\n",
    "from JamScrapy.preprocess.entity import Profile, People\n",
    "\n",
    "import json"
   ]
  },
  {
   "cell_type": "code",
   "execution_count": 2,
   "metadata": {},
   "outputs": [
    {
     "name": "stdout",
     "output_type": "stream",
     "text": [
      "Total posts: 1404\n"
     ]
    }
   ],
   "source": [
    "engine = create_engine(config.DB_CONNECT_STRING, max_overflow=5)\n",
    "session = sessionmaker(bind=engine)()\n",
    "profiles = session.query(Profile).all()\n",
    "\n",
    "print('Total posts:', len(profiles))"
   ]
  },
  {
   "cell_type": "code",
   "execution_count": 3,
   "metadata": {},
   "outputs": [],
   "source": [
    "def add_node(dict, str, value):\n",
    "    if str:\n",
    "        jsons = json.loads(str)\n",
    "        for item in jsons:\n",
    "            name = item['name']\n",
    "            if name not in dict:\n",
    "                dict[name] = value\n",
    "            else:\n",
    "                dict[name] |= value\n",
    "\n",
    "def add_link(list, filters, str, source=None, target=None, ban=False):\n",
    "    if str:\n",
    "        jsons = json.loads(str)\n",
    "        if not ban or ban and (len(jsons) < 20):\n",
    "            for item in jsons:\n",
    "                name = item['name']               \n",
    "                if (name in filters) and (name not in ['Francis Lui']):\n",
    "                    if source is not None:\n",
    "                        list.append({\"source\": source, \"target\": name})\n",
    "                    elif target is not None:\n",
    "                        list.append({\"source\": name, \"target\": target})\n",
    "\n",
    "def get_key(dict, value):\n",
    "    return [k for k, v in dict.items() if v >= value]"
   ]
  },
  {
   "cell_type": "markdown",
   "metadata": {},
   "source": [
    "# binary value of dictionary nodes\n",
    "- 10000 - Creator / Participator\n",
    "- 01000 - Manager\n",
    "- 00010 - Reporter\n",
    "- 00100 - Follower\n",
    "- 00001 - Following"
   ]
  },
  {
   "cell_type": "code",
   "execution_count": 4,
   "metadata": {},
   "outputs": [
    {
     "name": "stdout",
     "output_type": "stream",
     "text": [
      "1088\n",
      "13425\n"
     ]
    }
   ],
   "source": [
    "creators = dict()\n",
    "results = session.query(People).filter(People.roletype=='creator').all()\n",
    "for p in results:\n",
    "    if p.displayname not in creators:\n",
    "        creators[p.displayname] = 1\n",
    "    else:\n",
    "        creators[p.displayname] += 1\n",
    "        \n",
    "print(len(creators))\n",
    "\n",
    "people = dict()\n",
    "for p in profiles:\n",
    "    if p.displayname in get_key(creators, 2):\n",
    "        people[p.displayname] = 0b10000\n",
    "    \n",
    "    add_node(people, p.managers, 0b01000)\n",
    "    add_node(people, p.reports, 0b00010)\n",
    "    add_node(people, p.followers, 0b00100)\n",
    "    add_node(people, p.following, 0b00001)\n",
    "\n",
    "print(len(people))    \n",
    "\n"
   ]
  },
  {
   "cell_type": "code",
   "execution_count": 5,
   "metadata": {},
   "outputs": [],
   "source": [
    "# Classified by people relationship\n",
    "#nodes = []\n",
    "#for k, v in people.items(): \n",
    "#    if v >= 0b11111:\n",
    "#        nodes.append({\"name\": k,\"value\": v,\"symbolSize\": 12,\"category\": 0})\n",
    "#    elif v >= 0b10111:\n",
    "#        nodes.append({\"name\": k,\"value\": v,\"symbolSize\": 10,\"category\": 1})\n",
    "#    elif v >= 0b10011:\n",
    "#        nodes.append({\"name\": k,\"value\": v,\"symbolSize\": 8,\"category\": 2})\n",
    "#    elif v >= 0b10001:\n",
    "#        nodes.append({\"name\": k,\"value\": v,\"symbolSize\": 6,\"category\": 3})\n",
    "#    elif v == 0b10000:\n",
    "#        nodes.append({\"name\": k,\"value\": v,\"symbolSize\": 4,\"category\": 4})        \n",
    "\n",
    "#print(len(nodes))"
   ]
  },
  {
   "cell_type": "code",
   "execution_count": 6,
   "metadata": {},
   "outputs": [
    {
     "name": "stdout",
     "output_type": "stream",
     "text": [
      "477\n"
     ]
    }
   ],
   "source": [
    "# Classified by people relationship\n",
    "nodes = []\n",
    "for k, v in people.items(): \n",
    "    if k in creators:\n",
    "        rank = int(creators[k])\n",
    "        if rank >= 20:\n",
    "            nodes.append({\"name\": k,\"value\": rank, \"symbolSize\": 15, \"category\": 0})\n",
    "        elif rank >=15:\n",
    "            nodes.append({\"name\": k,\"value\": rank, \"symbolSize\": 12, \"category\": 1})\n",
    "        elif rank >=10:\n",
    "            nodes.append({\"name\": k,\"value\": rank, \"symbolSize\": 10, \"category\": 2})\n",
    "        elif rank >=5:\n",
    "            nodes.append({\"name\": k,\"value\": rank, \"symbolSize\": 8, \"category\": 3})\n",
    "        elif rank >1:\n",
    "            nodes.append({\"name\": k,\"value\": rank, \"symbolSize\": 4, \"category\": 4})\n",
    "        \n",
    "print(len(nodes))"
   ]
  },
  {
   "cell_type": "code",
   "execution_count": 7,
   "metadata": {},
   "outputs": [
    {
     "name": "stdout",
     "output_type": "stream",
     "text": [
      "1022\n"
     ]
    }
   ],
   "source": [
    "filters = get_key(creators, 2)\n",
    "links = []\n",
    "for p in profiles:\n",
    "    add_link(links, filters, p.managers, target=p.displayname)\n",
    "    add_link(links, filters, p.reports, source=p.displayname)\n",
    "    add_link(links, filters, p.followers, target=p.displayname, ban=True)\n",
    "    add_link(links, filters, p.following, source=p.displayname, ban=True)\n",
    "\n",
    "print(len(links))"
   ]
  },
  {
   "cell_type": "code",
   "execution_count": 8,
   "metadata": {},
   "outputs": [],
   "source": [
    "with open(\"./nodes.json\",'w',encoding='utf-8') as json_file:\n",
    "    json.dump(nodes,json_file,ensure_ascii=False)"
   ]
  },
  {
   "cell_type": "code",
   "execution_count": 9,
   "metadata": {},
   "outputs": [],
   "source": [
    "with open(\"./links.json\",'w',encoding='utf-8') as json_file:\n",
    "    json.dump(links,json_file,ensure_ascii=False)"
   ]
  },
  {
   "cell_type": "code",
   "execution_count": 15,
   "metadata": {},
   "outputs": [
    {
     "name": "stdout",
     "output_type": "stream",
     "text": [
      "0x3c\n",
      "0x8e\n",
      "0xfa\n"
     ]
    }
   ],
   "source": [
    "print(hex(60))\n",
    "print(hex(142))\n",
    "print(hex(250))"
   ]
  },
  {
   "cell_type": "code",
   "execution_count": null,
   "metadata": {},
   "outputs": [],
   "source": []
  }
 ],
 "metadata": {
  "kernelspec": {
   "display_name": "Python 3",
   "language": "python",
   "name": "python3"
  },
  "language_info": {
   "codemirror_mode": {
    "name": "ipython",
    "version": 3
   },
   "file_extension": ".py",
   "mimetype": "text/x-python",
   "name": "python",
   "nbconvert_exporter": "python",
   "pygments_lexer": "ipython3",
   "version": "3.6.3"
  }
 },
 "nbformat": 4,
 "nbformat_minor": 2
}
