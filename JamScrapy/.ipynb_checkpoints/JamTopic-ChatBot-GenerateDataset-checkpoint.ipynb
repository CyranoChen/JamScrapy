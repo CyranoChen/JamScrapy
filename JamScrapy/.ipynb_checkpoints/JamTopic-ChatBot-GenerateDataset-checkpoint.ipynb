{
 "cells": [
  {
   "cell_type": "markdown",
   "metadata": {},
   "source": [
    "# People Chart Dataset Preparing of Nexus Topic \"ChatBot\"\n",
    "Dataset file: People entities generate dataset of nodes and links"
   ]
  },
  {
   "cell_type": "code",
   "execution_count": 1,
   "metadata": {},
   "outputs": [],
   "source": [
    "import json\n",
    "import numpy as np\n",
    "import pandas as pd\n",
    "\n",
    "from pandas import DataFrame\n",
    "from sqlalchemy import create_engine, distinct\n",
    "from sqlalchemy.orm import sessionmaker\n",
    "\n",
    "from JamScrapy import config\n",
    "from JamScrapy.preprocess.entity import Profile, People"
   ]
  },
  {
   "cell_type": "code",
   "execution_count": 2,
   "metadata": {},
   "outputs": [],
   "source": [
    "TOPIC_KEYWORD = 'ChatBot'\n",
    "POSTS_THRESHOLD = 0 # involve all people\n",
    "LINKS_THRESHOLD = 20\n",
    "DEGREE_THRESHOLD = 5\n",
    "HIGH_CONTRIBUTION_THRESHOLD = 66\n",
    "CATEGORY_THRESHOLD = 'boardarea'\n",
    "\n",
    "engine = create_engine(config.DB_CONNECT_STRING, max_overflow=5)"
   ]
  },
  {
   "cell_type": "markdown",
   "metadata": {},
   "source": [
    "## 1. Dataset Preparing\n",
    "### 1.1 Get Profiles by certain topic"
   ]
  },
  {
   "cell_type": "code",
   "execution_count": 3,
   "metadata": {},
   "outputs": [
    {
     "name": "stdout",
     "output_type": "stream",
     "text": [
      "profiles: 1088\n"
     ]
    }
   ],
   "source": [
    "sql = f'''select profile.* from (select displayname from jam_people_from_post\n",
    "where keyword='{TOPIC_KEYWORD}' and roletype='Creator' and jam_people_from_post.displayname <> 'Alumni' \n",
    "group by jam_people_from_post.displayname having count(postid) >= {POSTS_THRESHOLD}) as people inner join jam_profile as profile\n",
    "on people.displayname = profile.displayname'''\n",
    "\n",
    "profiles = engine.execute(sql).fetchall()\n",
    "\n",
    "print(\"profiles:\", len(profiles))\n",
    "\n",
    "#Jack Wang\n",
    "#Swati Singh"
   ]
  },
  {
   "cell_type": "markdown",
   "metadata": {},
   "source": [
    "### 1.2 Get top contribution people"
   ]
  },
  {
   "cell_type": "code",
   "execution_count": 4,
   "metadata": {},
   "outputs": [
    {
     "name": "stdout",
     "output_type": "stream",
     "text": [
      "RangeIndex(start=0, stop=456, step=1)\n",
      "Index(['Unnamed: 0', 'author', 'posts', 'comments', 'likes', 'views',\n",
      "       'posts_trans', 'comments_trans', 'likes_trans', 'views_trans',\n",
      "       'contribution'],\n",
      "      dtype='object')\n",
      "(456, 11)\n"
     ]
    },
    {
     "data": {
      "text/html": [
       "<div>\n",
       "<style>\n",
       "    .dataframe thead tr:only-child th {\n",
       "        text-align: right;\n",
       "    }\n",
       "\n",
       "    .dataframe thead th {\n",
       "        text-align: left;\n",
       "    }\n",
       "\n",
       "    .dataframe tbody tr th {\n",
       "        vertical-align: top;\n",
       "    }\n",
       "</style>\n",
       "<table border=\"1\" class=\"dataframe\">\n",
       "  <thead>\n",
       "    <tr style=\"text-align: right;\">\n",
       "      <th></th>\n",
       "      <th>count</th>\n",
       "      <th>mean</th>\n",
       "      <th>std</th>\n",
       "      <th>min</th>\n",
       "      <th>25%</th>\n",
       "      <th>50%</th>\n",
       "      <th>75%</th>\n",
       "      <th>max</th>\n",
       "    </tr>\n",
       "  </thead>\n",
       "  <tbody>\n",
       "    <tr>\n",
       "      <th>Unnamed: 0</th>\n",
       "      <td>456</td>\n",
       "      <td>227</td>\n",
       "      <td>131</td>\n",
       "      <td>0</td>\n",
       "      <td>113</td>\n",
       "      <td>227</td>\n",
       "      <td>341</td>\n",
       "      <td>455</td>\n",
       "    </tr>\n",
       "    <tr>\n",
       "      <th>posts</th>\n",
       "      <td>456</td>\n",
       "      <td>3</td>\n",
       "      <td>4</td>\n",
       "      <td>2</td>\n",
       "      <td>2</td>\n",
       "      <td>3</td>\n",
       "      <td>4</td>\n",
       "      <td>46</td>\n",
       "    </tr>\n",
       "    <tr>\n",
       "      <th>comments</th>\n",
       "      <td>456</td>\n",
       "      <td>4</td>\n",
       "      <td>4</td>\n",
       "      <td>0</td>\n",
       "      <td>2</td>\n",
       "      <td>3</td>\n",
       "      <td>5</td>\n",
       "      <td>47</td>\n",
       "    </tr>\n",
       "    <tr>\n",
       "      <th>likes</th>\n",
       "      <td>456</td>\n",
       "      <td>3</td>\n",
       "      <td>8</td>\n",
       "      <td>0</td>\n",
       "      <td>0</td>\n",
       "      <td>0</td>\n",
       "      <td>2</td>\n",
       "      <td>73</td>\n",
       "    </tr>\n",
       "    <tr>\n",
       "      <th>views</th>\n",
       "      <td>456</td>\n",
       "      <td>281</td>\n",
       "      <td>725</td>\n",
       "      <td>0</td>\n",
       "      <td>30</td>\n",
       "      <td>70</td>\n",
       "      <td>204</td>\n",
       "      <td>8067</td>\n",
       "    </tr>\n",
       "    <tr>\n",
       "      <th>posts_trans</th>\n",
       "      <td>456</td>\n",
       "      <td>1</td>\n",
       "      <td>0</td>\n",
       "      <td>0</td>\n",
       "      <td>0</td>\n",
       "      <td>1</td>\n",
       "      <td>1</td>\n",
       "      <td>3</td>\n",
       "    </tr>\n",
       "    <tr>\n",
       "      <th>comments_trans</th>\n",
       "      <td>456</td>\n",
       "      <td>1</td>\n",
       "      <td>0</td>\n",
       "      <td>0</td>\n",
       "      <td>0</td>\n",
       "      <td>1</td>\n",
       "      <td>1</td>\n",
       "      <td>3</td>\n",
       "    </tr>\n",
       "    <tr>\n",
       "      <th>likes_trans</th>\n",
       "      <td>456</td>\n",
       "      <td>0</td>\n",
       "      <td>0</td>\n",
       "      <td>0</td>\n",
       "      <td>0</td>\n",
       "      <td>0</td>\n",
       "      <td>0</td>\n",
       "      <td>4</td>\n",
       "    </tr>\n",
       "    <tr>\n",
       "      <th>views_trans</th>\n",
       "      <td>456</td>\n",
       "      <td>4</td>\n",
       "      <td>1</td>\n",
       "      <td>0</td>\n",
       "      <td>3</td>\n",
       "      <td>4</td>\n",
       "      <td>5</td>\n",
       "      <td>8</td>\n",
       "    </tr>\n",
       "    <tr>\n",
       "      <th>contribution</th>\n",
       "      <td>456</td>\n",
       "      <td>44</td>\n",
       "      <td>16</td>\n",
       "      <td>0</td>\n",
       "      <td>29</td>\n",
       "      <td>42</td>\n",
       "      <td>56</td>\n",
       "      <td>100</td>\n",
       "    </tr>\n",
       "  </tbody>\n",
       "</table>\n",
       "</div>"
      ],
      "text/plain": [
       "                count  mean  std  min  25%  50%  75%   max\n",
       "Unnamed: 0        456   227  131    0  113  227  341   455\n",
       "posts             456     3    4    2    2    3    4    46\n",
       "comments          456     4    4    0    2    3    5    47\n",
       "likes             456     3    8    0    0    0    2    73\n",
       "views             456   281  725    0   30   70  204  8067\n",
       "posts_trans       456     1    0    0    0    1    1     3\n",
       "comments_trans    456     1    0    0    0    1    1     3\n",
       "likes_trans       456     0    0    0    0    0    0     4\n",
       "views_trans       456     4    1    0    3    4    5     8\n",
       "contribution      456    44   16    0   29   42   56   100"
      ]
     },
     "execution_count": 4,
     "metadata": {},
     "output_type": "execute_result"
    }
   ],
   "source": [
    "df_contribution = pd.read_csv(filepath_or_buffer='./output/contributes-chatbot.csv')\n",
    "\n",
    "print(df_contribution.index)\n",
    "print(df_contribution.columns)\n",
    "print(df_contribution.shape)\n",
    "df_contribution.describe(exclude=[np.object]).astype(np.int64).T"
   ]
  },
  {
   "cell_type": "markdown",
   "metadata": {},
   "source": [
    "## 2. Generate chart links"
   ]
  },
  {
   "cell_type": "code",
   "execution_count": 5,
   "metadata": {},
   "outputs": [],
   "source": [
    "filters = [p.displayname for p in profiles]\n",
    "BLACK_LIST = ['Francis Lui']\n",
    "\n",
    "def generate_relation(list, filters, str, source=None, target=None, role=None, ban=False):\n",
    "    if str:\n",
    "        jsons = json.loads(str)\n",
    "        if not ban or ban and (len(jsons) <= LINKS_THRESHOLD):\n",
    "            for item in jsons:\n",
    "                name = item['name']               \n",
    "                if (name in filters) and (name not in BLACK_LIST):\n",
    "                    if source is not None:\n",
    "                        list.append({\"source\": source, \"target\": name, \"role\": role})\n",
    "                    elif target is not None:\n",
    "                        list.append({\"source\": name, \"target\": target, \"role\": role})"
   ]
  },
  {
   "cell_type": "code",
   "execution_count": 6,
   "metadata": {},
   "outputs": [
    {
     "name": "stdout",
     "output_type": "stream",
     "text": [
      "relations: 1503\n"
     ]
    }
   ],
   "source": [
    "relations = []\n",
    "for p in profiles:\n",
    "    generate_relation(relations, filters, p.managers, target=p.displayname, role='managers')\n",
    "    generate_relation(relations, filters, p.reports, source=p.displayname, role='reports')\n",
    "    generate_relation(relations, filters, p.followers, target=p.displayname, role='followers', ban=True)\n",
    "    generate_relation(relations, filters, p.following, source=p.displayname, role='following', ban=True)\n",
    "    \n",
    "print('relations:', len(relations))"
   ]
  },
  {
   "cell_type": "code",
   "execution_count": 7,
   "metadata": {},
   "outputs": [
    {
     "name": "stdout",
     "output_type": "stream",
     "text": [
      "comments: 851\n",
      "total relations: 1827\n"
     ]
    }
   ],
   "source": [
    "sql = f'''select * from (select commenters.postid, commenters.position, creators.displayname as source, commenters.displayname as target from\n",
    "(select * from jam_people_from_post where keyword = '{TOPIC_KEYWORD}' and roletype = 'participator' and position >= 0) AS commenters\n",
    "inner join (select * from jam_people_from_post where keyword = '{TOPIC_KEYWORD}' and roletype = 'creator' and position = 0) AS creators\n",
    "ON commenters.postid = creators.postid ) as t where source <> 'Alumni' or target <> 'Alumni' order by postid, position'''\n",
    "\n",
    "comments = engine.execute(sql).fetchall()\n",
    "\n",
    "print(\"comments:\", len(comments))\n",
    "\n",
    "for c in comments:\n",
    "    if (c.source in filters and c.target in filters):\n",
    "        relations.append({\"source\": c.source, \"target\": c.target, \"role\": 'comment'})\n",
    "    \n",
    "print('total relations:', len(relations))"
   ]
  },
  {
   "cell_type": "code",
   "execution_count": 8,
   "metadata": {},
   "outputs": [
    {
     "name": "stdout",
     "output_type": "stream",
     "text": [
      "1019\n",
      "1019\n"
     ]
    }
   ],
   "source": [
    "# 合并对应所有role关系，设置不同权重\n",
    "relations_dict = dict()\n",
    "\n",
    "for r in relations:\n",
    "    key_s = f\"{r['source']}>{r['target']}\"\n",
    "    key_t = f\"{r['target']}>{r['source']}\"\n",
    "    if key_s in relations_dict.keys():\n",
    "        relations_dict[key_s].append(r)\n",
    "    elif key_t in relations_dict.keys():\n",
    "        relations_dict[key_t].append(r)\n",
    "    else:\n",
    "        relations_dict[key_s] = [r]\n",
    "\n",
    "print(len(relations_dict))\n",
    "\n",
    "links = []\n",
    "\n",
    "for k,v in relations_dict.items():\n",
    "    #初始化关系权重\n",
    "    weight = 0\n",
    "    source = v[0]['source']\n",
    "    target = v[0]['target']\n",
    "    \n",
    "    for r in v:\n",
    "        if r['role'] == 'comment':\n",
    "            weight += 100 # hundreds or thousand\n",
    "        elif r['role'] == 'managers' or r['role'] == 'reports':\n",
    "            weight += 10 # max = 2\n",
    "        elif r['role'] == 'followers' or r['role'] == 'following':\n",
    "            weight += 1 # max = 4\n",
    "        \n",
    "    links.append({\"source\": source, \"target\": target, \"weight\": float(weight)})\n",
    "\n",
    "print(len(links))\n",
    "\n",
    "#links_distinct = [dict(t) for t in set([tuple((('source', d['source']), ('target', d['target']))) for d in links])]\n",
    "\n",
    "with open(\"./output/links.json\",'w',encoding='utf-8') as json_file:\n",
    "    json.dump(links,json_file,ensure_ascii=False)"
   ]
  },
  {
   "cell_type": "code",
   "execution_count": 9,
   "metadata": {},
   "outputs": [
    {
     "name": "stdout",
     "output_type": "stream",
     "text": [
      "724\n"
     ]
    }
   ],
   "source": [
    "nodes_degree = dict()\n",
    "\n",
    "for l in links:\n",
    "    if l['source'] not in nodes_degree:\n",
    "        nodes_degree[l['source']] = 1\n",
    "    else:\n",
    "        nodes_degree[l['source']] += 1\n",
    "\n",
    "    if l['target'] not in nodes_degree:\n",
    "        nodes_degree[l['target']] = 1\n",
    "    else:\n",
    "        nodes_degree[l['target']] += 1\n",
    "        \n",
    "print(len(nodes_degree))"
   ]
  },
  {
   "cell_type": "code",
   "execution_count": 10,
   "metadata": {},
   "outputs": [
    {
     "data": {
      "image/png": "[encoded data removed]",
      "text/plain": [
       "<matplotlib.figure.Figure at 0x102264240>"
      ]
     },
     "metadata": {},
     "output_type": "display_data"
    }
   ],
   "source": [
    "import matplotlib.pyplot as plt\n",
    "\n",
    "degree = [v for v in nodes_degree.values()]\n",
    "\n",
    "fig, axs = plt.subplots(1, 2, figsize=(20, 5), sharex=True, sharey=True)\n",
    "ax1 = plt.subplot(121)\n",
    "ax2 = plt.subplot(122)\n",
    "\n",
    "ax1.hist(degree, bins=24, align='left', normed=True)\n",
    "ax2.boxplot(degree)\n",
    "\n",
    "plt.show()"
   ]
  },
  {
   "cell_type": "markdown",
   "metadata": {},
   "source": [
    "## 3. Generate chart nodes"
   ]
  },
  {
   "cell_type": "code",
   "execution_count": 11,
   "metadata": {},
   "outputs": [],
   "source": [
    "BROKERS = ['Steve Hamrick','Timo ELLIOTT','Soon Fuller','Lisa Munzenmaier','Maarten de Vries','Charles Tigges','Daniel Dahlmeier','Pushkar Ranjan','Mike Fecek']\n",
    "INFLUENCERS = ['Anna Sahagun','Jayne Landry','Gail Moody-Byrd','Alexis Luna','Christian Lieske','Renee Wilhelm','Alfred Wu','Silvia Gao']"
   ]
  },
  {
   "cell_type": "code",
   "execution_count": 12,
   "metadata": {},
   "outputs": [
    {
     "name": "stdout",
     "output_type": "stream",
     "text": [
      "1078\n",
      "(4, 'https://jam4.sapjam.com/profile/wall/c8rFhU6CS4XEYp6DHBZGhS', 'C5230478', 'Adrian Marks', '/image/view?member_id=7311805&max_x=285&max_y=285&stamp=1438375090', None, None, None, None, '[{\"name\": \"S/4HANA Cloud (S4HC)\", \"url\": \"/groups/siCwUB2doqMRBEdJDPsIqX\"}, {\"name\": \"SAP Analytics Cloud (SAC)\", \"url\": \"/groups/5xGwfqrwZaOBYwYHz47 ... (489 characters truncated) ... uf2J\"}, {\"name\": \"SAP Vancouver\", \"url\": \"/groups/3UF6O4rAqQspBRQkqGwn1L\"}, {\"name\": \"SAP Ariba Community\", \"url\": \"/groups/7GVue0Q3ilPa1vqY1RGwdC\"}]', None, None, 5589, 'https://people.wdf.sap.corp/profiles/C5230478', 'C5230478', 'Adrian Marks', None, None, 'Infrastructure Tele Pers', 'Vancouver (CA), VAN03', None, 'America/Vancouver', 'adrian.marks@sap.com', '+1 604 974-3757', None, '910 Mainland Street, CA- V6B 1A9 Vancouver', None, 'https://jam4.sapjam.com/profile/wall/c8rFhU6CS4XEYp6DHBZGhS')\n"
     ]
    }
   ],
   "source": [
    "sql = f'''select j_profile.*, p_profile.*, j_profile.profileurl as profile from (select displayname from jam_people_from_post\n",
    "where keyword='{TOPIC_KEYWORD}' and roletype='Creator' and jam_people_from_post.displayname <> 'Alumni'\n",
    "group by jam_people_from_post.displayname having count(postid) >= {POSTS_THRESHOLD}) as people\n",
    "inner join jam_profile as j_profile on people.displayname = j_profile.displayname\n",
    "inner join portal_profile as p_profile on j_profile.username = p_profile.username'''\n",
    "\n",
    "profiles = engine.execute(sql).fetchall()\n",
    "\n",
    "print(len(profiles))\n",
    "print(profiles[0])"
   ]
  },
  {
   "cell_type": "code",
   "execution_count": 13,
   "metadata": {},
   "outputs": [],
   "source": [
    "def get_people_contribution(displayname):\n",
    "    item = df_contribution[df_contribution['author']==displayname]    \n",
    "    if item.size > 0:\n",
    "        return float(item['contribution']);\n",
    "    else:\n",
    "        return 0;\n",
    "\n",
    "def get_people_indicators(displayname, key):    \n",
    "    item = df_contribution[df_contribution['author']==displayname]     \n",
    "    if item.size > 0 and key in item.keys():      \n",
    "        return int(item[key])\n",
    "    else:\n",
    "        return 0;\n",
    "\n",
    "def get_people_network_degree(displayname):\n",
    "    if displayname in nodes_degree.keys():\n",
    "        return int(nodes_degree[displayname])\n",
    "    else:\n",
    "        return 0;\n",
    "\n",
    "def get_people_network_type(displayname):\n",
    "    if displayname in nodes_degree.keys():\n",
    "        if displayname in BROKERS:\n",
    "            return 'Brokers'\n",
    "        elif displayname in INFLUENCERS:\n",
    "            return 'Influencers'\n",
    "        elif nodes_degree[displayname] > DEGREE_THRESHOLD:\n",
    "            return 'Connectors'\n",
    "        else:\n",
    "            return 'Isolates'\n",
    "    else:\n",
    "        return 'Isolates'"
   ]
  },
  {
   "cell_type": "code",
   "execution_count": 16,
   "metadata": {},
   "outputs": [
    {
     "name": "stdout",
     "output_type": "stream",
     "text": [
      "1078\n"
     ]
    }
   ],
   "source": [
    "nodes = []\n",
    "\n",
    "for p in profiles:    \n",
    "    node = dict()\n",
    "    node['name'] = p.displayname\n",
    "    node['username'] = p.username\n",
    "    node['avatar'] = p.avatar\n",
    "    node['boardarea'] = p.boardarea\n",
    "    node['functionalarea'] = p.functionalarea\n",
    "    node['costcenter'] = p.costcenter\n",
    "    node['officelocation'] = p.officelocation\n",
    "    node['localinfo'] = p.localinfo\n",
    "    if p.localinfo:\n",
    "        node['region'] = str.split(p.localinfo, '/')[0]\n",
    "        node['city'] = str.split(p.localinfo, '/')[1]\n",
    "    else:\n",
    "        node['region'] = 'None'\n",
    "        node['city'] = 'None'\n",
    "    node['profile'] = p.profile\n",
    "    node['email'] = p.email\n",
    "    node['mobile'] = p.mobile\n",
    "      \n",
    "    node['value'] = round(get_people_contribution(p.displayname),2)\n",
    "    node['posts'] = get_people_indicators(p.displayname, 'posts')\n",
    "    node['comments'] = get_people_indicators(p.displayname, 'comments')\n",
    "    node['likes'] = get_people_indicators(p.displayname, 'likes')\n",
    "    node['views'] = get_people_indicators(p.displayname, 'views')\n",
    "    \n",
    "    #node['symbol_size'] = int(get_people_contribution(p.displayname)/5)\n",
    "    node['networkdegree'] = get_people_network_degree(p.displayname)\n",
    "    node['networktype'] = get_people_network_type(p.displayname)\n",
    "    \n",
    "    if node[CATEGORY_THRESHOLD] != None:\n",
    "        node['category'] = node[CATEGORY_THRESHOLD]\n",
    "    else:\n",
    "        node['category'] = 'None'\n",
    "    \n",
    "    nodes.append(node)\n",
    "    \n",
    "# 去掉重复节点\n",
    "nodes = [dict(t) for t in set([tuple(d.items()) for d in nodes])]\n",
    "\n",
    "print(len(nodes))\n"
   ]
  },
  {
   "cell_type": "code",
   "execution_count": 17,
   "metadata": {},
   "outputs": [
    {
     "name": "stdout",
     "output_type": "stream",
     "text": [
      "{'name': 'Jack Wang', 'username': 'I067257', 'avatar': '/image/view?member_id=299388&max_x=285&max_y=285&stamp=1408614497', 'boardarea': 'Products & Innovation', 'functionalarea': 'Development', 'costcenter': 'PI Innovation CN CF', 'officelocation': 'Shanghai (CN), PVG06, B510', 'localinfo': 'Asia/Shanghai', 'region': 'Asia', 'city': 'Shanghai', 'profile': 'https://jam4.sapjam.com/profile/wall/2XcrHYYeCEX3xHKjK9Ds55', 'email': 'jack.wang01@sap.com', 'mobile': '+86 18321135112', 'value': 61.38, 'posts': 6, 'comments': 7, 'likes': 2, 'views': 70, 'networkdegree': 4, 'networktype': 'Isolates', 'category': 'Products & Innovation'}\n",
      "{'name': 'Swati Singh', 'username': 'I856280', 'avatar': '/image/view?member_id=9684578&max_x=285&max_y=285&stamp=1467305025', 'boardarea': 'Office of CEO', 'functionalarea': 'Marketing', 'costcenter': 'Influencer Marketing Pers (IN)', 'officelocation': 'Newtown Square (US), NSQ02, 2.2035', 'localinfo': 'America/New_York', 'region': 'America', 'city': 'New_York', 'profile': 'https://jam4.sapjam.com/profile/wall/ewSylUDp7BMc5Ikud6VQcg', 'email': 'swati.singh03@sap.com', 'mobile': '+1 610 3121147', 'value': 27.64, 'posts': 2, 'comments': 2, 'likes': 0, 'views': 33, 'networkdegree': 3, 'networktype': 'Isolates', 'category': 'Office of CEO'}\n",
      "1076\n"
     ]
    }
   ],
   "source": [
    "for p in nodes:\n",
    "    if p['name'] in ['Jack Wang','Swati Singh']:\n",
    "        if p['username'] in ['I856280','I067257']:\n",
    "            print(p)\n",
    "            nodes.remove(p)\n",
    "\n",
    "print(len(nodes)) \n",
    "\n",
    "with open(\"./output/nodes.json\",'w',encoding='utf-8') as json_file:\n",
    "    json.dump(nodes,json_file, ensure_ascii=False)"
   ]
  },
  {
   "cell_type": "code",
   "execution_count": 18,
   "metadata": {},
   "outputs": [
    {
     "name": "stdout",
     "output_type": "stream",
     "text": [
      "Thinkers 956 Pioneers 37\n",
      "Delegators 55 Generators 11\n",
      "Enablers 3 Teamsters 5\n",
      "Broadcasters 5 Definers 4\n"
     ]
    }
   ],
   "source": [
    "matrix = dict()\n",
    "\n",
    "for item in nodes:\n",
    "    if item['networktype'] == 'Isolates' and item['value'] <= HIGH_CONTRIBUTION_THRESHOLD:\n",
    "        character = \"Thinkers\"\n",
    "    elif item['networktype'] == 'Isolates' and item['value'] > HIGH_CONTRIBUTION_THRESHOLD:\n",
    "        character = \"Pioneers\"\n",
    "    elif item['networktype'] == 'Connectors' and item['value'] <= HIGH_CONTRIBUTION_THRESHOLD:\n",
    "        character = \"Delegators\"\n",
    "    elif item['networktype'] == 'Connectors' and item['value'] > HIGH_CONTRIBUTION_THRESHOLD:\n",
    "        character = \"Generators\"\n",
    "    elif item['networktype'] == 'Influencers' and item['value'] <= HIGH_CONTRIBUTION_THRESHOLD:\n",
    "        character = \"Enablers\"\n",
    "    elif item['networktype'] == 'Influencers' and item['value'] > HIGH_CONTRIBUTION_THRESHOLD:\n",
    "        character = \"Teamsters\"\n",
    "    elif item['networktype'] == 'Brokers' and item['value'] <= HIGH_CONTRIBUTION_THRESHOLD:\n",
    "        character = \"Broadcasters\"\n",
    "    elif item['networktype'] == 'Brokers' and item['value'] > HIGH_CONTRIBUTION_THRESHOLD:\n",
    "        character = \"Definers\"\n",
    "    else:\n",
    "        print(item)\n",
    "\n",
    "    if character not in matrix:\n",
    "        matrix[character] = 1\n",
    "    else:\n",
    "        matrix[character] += 1\n",
    "\n",
    "print('Thinkers', matrix['Thinkers'], 'Pioneers', matrix['Pioneers'])\n",
    "print('Delegators', matrix['Delegators'], 'Generators', matrix['Generators'])\n",
    "print('Enablers', matrix['Enablers'], 'Teamsters', matrix['Teamsters'])\n",
    "print('Broadcasters', matrix['Broadcasters'], 'Definers', matrix['Definers'])"
   ]
  },
  {
   "cell_type": "markdown",
   "metadata": {},
   "source": [
    "## 4. Generate chart categories"
   ]
  },
  {
   "cell_type": "code",
   "execution_count": 19,
   "metadata": {},
   "outputs": [
    {
     "name": "stdout",
     "output_type": "stream",
     "text": [
      "[('Cloud Business Group', 261), ('Digital Business Services', 96), ('Finance & Administration', 3), ('Global Business Operations', 50), ('Global Customer Operations', 260), ('Human Resources', 17), ('None', 31), ('Office of CEO', 162), ('Products & Innovation', 196)]\n"
     ]
    }
   ],
   "source": [
    "cates = dict()\n",
    "for node in nodes:\n",
    "    if node['category'] in cates.keys():\n",
    "        cates[node['category']] += 1\n",
    "    else:\n",
    "        cates[node['category']] = 1\n",
    "        \n",
    "cates = [(k,cates[k]) for k in sorted(cates.keys())]\n",
    "\n",
    "print(cates)\n",
    "\n",
    "categories = []\n",
    "\n",
    "for c in cates:\n",
    "    categories.append({'name': c[0], 'count': int(c[1])})"
   ]
  },
  {
   "cell_type": "code",
   "execution_count": 20,
   "metadata": {},
   "outputs": [],
   "source": [
    "dataset = {\"nodes\": nodes, \"links\": links }\n",
    "\n",
    "with open(\"../webroot/data/jam-people-chatbot.json\",'w',encoding='utf-8') as json_file:\n",
    "    json.dump(dataset,json_file, ensure_ascii=False)"
   ]
  },
  {
   "cell_type": "code",
   "execution_count": null,
   "metadata": {},
   "outputs": [],
   "source": []
  }
 ],
 "metadata": {
  "kernelspec": {
   "display_name": "Python 3",
   "language": "python",
   "name": "python3"
  },
  "language_info": {
   "codemirror_mode": {
    "name": "ipython",
    "version": 3
   },
   "file_extension": ".py",
   "mimetype": "text/x-python",
   "name": "python",
   "nbconvert_exporter": "python",
   "pygments_lexer": "ipython3",
   "version": "3.6.3"
  }
 },
 "nbformat": 4,
 "nbformat_minor": 2
}
