{
 "cells": [
  {
   "cell_type": "markdown",
   "metadata": {},
   "source": [
    "# People Chart Dataset Preparing of SapJam Topic \"Blockchain\"\n",
    "Dataset file: People entities generate nodes and links"
   ]
  },
  {
   "cell_type": "code",
   "execution_count": 128,
   "metadata": {},
   "outputs": [],
   "source": [
    "import json\n",
    "import numpy as np\n",
    "import pandas as pd\n",
    "\n",
    "from pandas import DataFrame\n",
    "from sqlalchemy import create_engine, distinct\n",
    "from sqlalchemy.orm import sessionmaker\n",
    "\n",
    "from JamScrapy import config\n",
    "from JamScrapy.preprocess.entity import Profile, People"
   ]
  },
  {
   "cell_type": "code",
   "execution_count": 129,
   "metadata": {},
   "outputs": [],
   "source": [
    "TOPIC_KEYWORD = 'Blockchain'\n",
    "POSTS_THRESHOLD = 5\n",
    "LINKS_THRESHOLD = 20\n",
    "DEGREE_THREHOLD = 5\n",
    "\n",
    "engine = create_engine(config.DB_CONNECT_STRING, max_overflow=5)"
   ]
  },
  {
   "cell_type": "markdown",
   "metadata": {},
   "source": [
    "## 1. Dataset Preparing\n",
    "### 1.1 Get Profiles by certain topic"
   ]
  },
  {
   "cell_type": "code",
   "execution_count": 130,
   "metadata": {},
   "outputs": [
    {
     "name": "stdout",
     "output_type": "stream",
     "text": [
      "profiles: 669\n"
     ]
    }
   ],
   "source": [
    "sql = f'''select profile.* from (select displayname from jam_people_from_post\n",
    "where keyword='{TOPIC_KEYWORD}' and roletype='Creator' and jam_people_from_post.displayname <> 'Alumni' \n",
    "group by jam_people_from_post.displayname having count(postid) >= {POSTS_THRESHOLD}) as people inner join jam_profile as profile\n",
    "on people.displayname = profile.displayname'''\n",
    "\n",
    "profiles = engine.execute(sql).fetchall()\n",
    "\n",
    "print(\"profiles:\", len(profiles))\n",
    "\n",
    "#Jack Wang\n",
    "#Swati Singh"
   ]
  },
  {
   "cell_type": "markdown",
   "metadata": {},
   "source": [
    "### 1.2 Get top contribution people"
   ]
  },
  {
   "cell_type": "code",
   "execution_count": 131,
   "metadata": {},
   "outputs": [
    {
     "name": "stdout",
     "output_type": "stream",
     "text": [
      "RangeIndex(start=0, stop=639, step=1)\n",
      "Index(['Unnamed: 0', 'author', 'posts', 'comments', 'likes', 'views',\n",
      "       'posts_trans', 'comments_trans', 'likes_trans', 'views_trans',\n",
      "       'contribution'],\n",
      "      dtype='object')\n",
      "(639, 11)\n"
     ]
    },
    {
     "data": {
      "text/html": [
       "<div>\n",
       "<style>\n",
       "    .dataframe thead tr:only-child th {\n",
       "        text-align: right;\n",
       "    }\n",
       "\n",
       "    .dataframe thead th {\n",
       "        text-align: left;\n",
       "    }\n",
       "\n",
       "    .dataframe tbody tr th {\n",
       "        vertical-align: top;\n",
       "    }\n",
       "</style>\n",
       "<table border=\"1\" class=\"dataframe\">\n",
       "  <thead>\n",
       "    <tr style=\"text-align: right;\">\n",
       "      <th></th>\n",
       "      <th>count</th>\n",
       "      <th>mean</th>\n",
       "      <th>std</th>\n",
       "      <th>min</th>\n",
       "      <th>25%</th>\n",
       "      <th>50%</th>\n",
       "      <th>75%</th>\n",
       "      <th>max</th>\n",
       "    </tr>\n",
       "  </thead>\n",
       "  <tbody>\n",
       "    <tr>\n",
       "      <th>Unnamed: 0</th>\n",
       "      <td>639</td>\n",
       "      <td>319</td>\n",
       "      <td>184</td>\n",
       "      <td>0</td>\n",
       "      <td>159</td>\n",
       "      <td>319</td>\n",
       "      <td>478</td>\n",
       "      <td>638</td>\n",
       "    </tr>\n",
       "    <tr>\n",
       "      <th>posts</th>\n",
       "      <td>639</td>\n",
       "      <td>13</td>\n",
       "      <td>18</td>\n",
       "      <td>5</td>\n",
       "      <td>6</td>\n",
       "      <td>8</td>\n",
       "      <td>13</td>\n",
       "      <td>288</td>\n",
       "    </tr>\n",
       "    <tr>\n",
       "      <th>comments</th>\n",
       "      <td>639</td>\n",
       "      <td>14</td>\n",
       "      <td>22</td>\n",
       "      <td>0</td>\n",
       "      <td>6</td>\n",
       "      <td>9</td>\n",
       "      <td>14</td>\n",
       "      <td>340</td>\n",
       "    </tr>\n",
       "    <tr>\n",
       "      <th>likes</th>\n",
       "      <td>639</td>\n",
       "      <td>8</td>\n",
       "      <td>40</td>\n",
       "      <td>0</td>\n",
       "      <td>0</td>\n",
       "      <td>1</td>\n",
       "      <td>5</td>\n",
       "      <td>820</td>\n",
       "    </tr>\n",
       "    <tr>\n",
       "      <th>views</th>\n",
       "      <td>639</td>\n",
       "      <td>904</td>\n",
       "      <td>3406</td>\n",
       "      <td>3</td>\n",
       "      <td>88</td>\n",
       "      <td>220</td>\n",
       "      <td>625</td>\n",
       "      <td>51986</td>\n",
       "    </tr>\n",
       "    <tr>\n",
       "      <th>posts_trans</th>\n",
       "      <td>639</td>\n",
       "      <td>2</td>\n",
       "      <td>0</td>\n",
       "      <td>1</td>\n",
       "      <td>1</td>\n",
       "      <td>2</td>\n",
       "      <td>2</td>\n",
       "      <td>5</td>\n",
       "    </tr>\n",
       "    <tr>\n",
       "      <th>comments_trans</th>\n",
       "      <td>639</td>\n",
       "      <td>2</td>\n",
       "      <td>0</td>\n",
       "      <td>0</td>\n",
       "      <td>1</td>\n",
       "      <td>2</td>\n",
       "      <td>2</td>\n",
       "      <td>5</td>\n",
       "    </tr>\n",
       "    <tr>\n",
       "      <th>likes_trans</th>\n",
       "      <td>639</td>\n",
       "      <td>0</td>\n",
       "      <td>1</td>\n",
       "      <td>0</td>\n",
       "      <td>0</td>\n",
       "      <td>0</td>\n",
       "      <td>1</td>\n",
       "      <td>6</td>\n",
       "    </tr>\n",
       "    <tr>\n",
       "      <th>views_trans</th>\n",
       "      <td>639</td>\n",
       "      <td>5</td>\n",
       "      <td>1</td>\n",
       "      <td>1</td>\n",
       "      <td>4</td>\n",
       "      <td>5</td>\n",
       "      <td>6</td>\n",
       "      <td>10</td>\n",
       "    </tr>\n",
       "    <tr>\n",
       "      <th>contribution</th>\n",
       "      <td>639</td>\n",
       "      <td>48</td>\n",
       "      <td>12</td>\n",
       "      <td>0</td>\n",
       "      <td>39</td>\n",
       "      <td>47</td>\n",
       "      <td>56</td>\n",
       "      <td>100</td>\n",
       "    </tr>\n",
       "  </tbody>\n",
       "</table>\n",
       "</div>"
      ],
      "text/plain": [
       "                count  mean   std  min  25%  50%  75%    max\n",
       "Unnamed: 0        639   319   184    0  159  319  478    638\n",
       "posts             639    13    18    5    6    8   13    288\n",
       "comments          639    14    22    0    6    9   14    340\n",
       "likes             639     8    40    0    0    1    5    820\n",
       "views             639   904  3406    3   88  220  625  51986\n",
       "posts_trans       639     2     0    1    1    2    2      5\n",
       "comments_trans    639     2     0    0    1    2    2      5\n",
       "likes_trans       639     0     1    0    0    0    1      6\n",
       "views_trans       639     5     1    1    4    5    6     10\n",
       "contribution      639    48    12    0   39   47   56    100"
      ]
     },
     "execution_count": 131,
     "metadata": {},
     "output_type": "execute_result"
    }
   ],
   "source": [
    "df_contribution = pd.read_csv(filepath_or_buffer=f'./output/contributes-{TOPIC_KEYWORD}.csv')\n",
    "\n",
    "print(df_contribution.index)\n",
    "print(df_contribution.columns)\n",
    "print(df_contribution.shape)\n",
    "df_contribution.describe(exclude=[np.object]).astype(np.int64).T"
   ]
  },
  {
   "cell_type": "markdown",
   "metadata": {},
   "source": [
    "## 2. Generate chart links"
   ]
  },
  {
   "cell_type": "code",
   "execution_count": 132,
   "metadata": {},
   "outputs": [],
   "source": [
    "def add_link(list, filters, str, source=None, target=None, ban=False):\n",
    "    if str:\n",
    "        jsons = json.loads(str)\n",
    "        if not ban or ban and (len(jsons) < LINKS_THRESHOLD):\n",
    "            for item in jsons:\n",
    "                name = item['name']               \n",
    "                if (name in filters) and (name not in ['Francis Lui']):\n",
    "                    if source is not None:\n",
    "                        list.append({\"source\": source, \"target\": name})\n",
    "                    elif target is not None:\n",
    "                        list.append({\"source\": name, \"target\": target})"
   ]
  },
  {
   "cell_type": "code",
   "execution_count": 133,
   "metadata": {},
   "outputs": [
    {
     "name": "stdout",
     "output_type": "stream",
     "text": [
      "543\n"
     ]
    }
   ],
   "source": [
    "filters = [p.displayname for p in profiles]\n",
    "\n",
    "links = []\n",
    "for p in profiles:\n",
    "    add_link(links, filters, p.managers, target=p.displayname)\n",
    "    add_link(links, filters, p.reports, source=p.displayname)\n",
    "    add_link(links, filters, p.followers, target=p.displayname, ban=True)\n",
    "    add_link(links, filters, p.following, source=p.displayname, ban=True)\n",
    "\n",
    "# 去掉重复节点\n",
    "links = [dict(t) for t in set([tuple(d.items()) for d in links])]\n",
    "\n",
    "print(len(links))\n",
    "\n",
    "with open(\"./output/links.json\",'w',encoding='utf-8') as json_file:\n",
    "    json.dump(links,json_file,ensure_ascii=False)"
   ]
  },
  {
   "cell_type": "code",
   "execution_count": 134,
   "metadata": {},
   "outputs": [
    {
     "name": "stdout",
     "output_type": "stream",
     "text": [
      "399\n"
     ]
    }
   ],
   "source": [
    "nodes_degree = dict()\n",
    "\n",
    "for l in links:\n",
    "    if l['source'] not in nodes_degree:\n",
    "        nodes_degree[l['source']] = 1\n",
    "    else:\n",
    "        nodes_degree[l['source']] += 1\n",
    "\n",
    "    if l['target'] not in nodes_degree:\n",
    "        nodes_degree[l['target']] = 1\n",
    "    else:\n",
    "        nodes_degree[l['target']] += 1\n",
    "        \n",
    "print(len(nodes_degree))"
   ]
  },
  {
   "cell_type": "code",
   "execution_count": 135,
   "metadata": {},
   "outputs": [
    {
     "data": {
      "image/png": "[encoded data removed]",
      "text/plain": [
       "<matplotlib.figure.Figure at 0x10a69cdd8>"
      ]
     },
     "metadata": {},
     "output_type": "display_data"
    }
   ],
   "source": [
    "import matplotlib.pyplot as plt\n",
    "\n",
    "degree = [v for v in nodes_degree.values()]\n",
    "\n",
    "fig, axs = plt.subplots(1, 2, figsize=(20, 5), sharex=True, sharey=True)\n",
    "ax1 = plt.subplot(121)\n",
    "ax2 = plt.subplot(122)\n",
    "\n",
    "ax1.hist(degree, bins=15, align='left', normed=True)\n",
    "ax2.boxplot(degree)\n",
    "\n",
    "plt.show()"
   ]
  },
  {
   "cell_type": "markdown",
   "metadata": {},
   "source": [
    "## 3. Generate chart nodes"
   ]
  },
  {
   "cell_type": "code",
   "execution_count": 136,
   "metadata": {},
   "outputs": [],
   "source": [
    "BROKERS = ['Timo ELLIOTT','Joerg Koesters','Melanie Fiolka','ernesto Morales','Soon Fuller','Dante Ricci','Raimund Gross','Charles Tigges','Monica Gassmann','Joerg Ferchow','Simon Cummings','Maarten de Vries']\n",
    "INFLUENCERS = ['Dae Young Chung','Bob Leeds','Aman Chauhan','Maren Heilig','Subhankar Pattanayak','Andy Rubinson','Shantanu Garg','Marlyn Zelkowitz','Stefanie Schneider','Georg Kube','Benjamin Stoeckhert']"
   ]
  },
  {
   "cell_type": "code",
   "execution_count": 137,
   "metadata": {},
   "outputs": [
    {
     "name": "stdout",
     "output_type": "stream",
     "text": [
      "667\n"
     ]
    }
   ],
   "source": [
    "nodes = []\n",
    "\n",
    "for p in profiles:\n",
    "    # 设置value和节点大小，依据contribution\n",
    "    value = 0\n",
    "    symbol_size = 5\n",
    "    \n",
    "    item = df_contribution[df_contribution['author']==p.displayname]    \n",
    "    if item.size > 0:\n",
    "        value = round(float(item['contribution']),2)\n",
    "        symbol_size = 5+int(item['contribution']/6)\n",
    "        \n",
    "    # 设置category，依据degree\n",
    "    categroy = 0\n",
    "    \n",
    "    if p.displayname in nodes_degree:\n",
    "        if p.displayname in BROKERS:\n",
    "            categroy = 3\n",
    "        elif p.displayname in INFLUENCERS:\n",
    "            categroy = 2\n",
    "        elif nodes_degree[p.displayname] >= DEGREE_THREHOLD:\n",
    "            categroy = 1\n",
    "           \n",
    "    nodes.append({\"name\": p.displayname, \"value\": value, \"symbolSize\": symbol_size, \"category\": categroy})\n",
    "\n",
    "# 去掉重复节点\n",
    "nodes = [dict(t) for t in set([tuple(d.items()) for d in nodes])]\n",
    "\n",
    "print(len(nodes))\n",
    "\n",
    "with open(\"./output/nodes.json\",'w',encoding='utf-8') as json_file:\n",
    "    json.dump(nodes,json_file, ensure_ascii=False)"
   ]
  },
  {
   "cell_type": "code",
   "execution_count": 138,
   "metadata": {},
   "outputs": [
    {
     "name": "stdout",
     "output_type": "stream",
     "text": [
      "Thinkers 522 Pioneers 81\n",
      "Delegators 31 Generators 10\n",
      "Enablers 8 Teamsters 3\n",
      "Broadcasters 8 Definers 4\n"
     ]
    }
   ],
   "source": [
    "matrix = dict()\n",
    "threshold = 62 # threshold: 74.77380738649151 62.160711079737254\n",
    "\n",
    "for item in nodes:   \n",
    "    if item['category'] == 0 and item['value'] <= threshold:\n",
    "        character = \"Thinkers\"\n",
    "    elif item['category'] == 0 and item['value'] > threshold:\n",
    "        character = \"Pioneers\"\n",
    "    elif item['category'] == 1 and item['value'] <= threshold:\n",
    "        character = \"Delegators\"\n",
    "    elif item['category'] == 1 and item['value'] > threshold:\n",
    "        character = \"Generators\"\n",
    "    elif item['category'] == 2 and item['value'] <= threshold:\n",
    "        character = \"Enablers\"\n",
    "    elif item['category'] == 2 and item['value'] > threshold:\n",
    "        character = \"Teamsters\"\n",
    "    elif item['category'] == 3 and item['value'] <= threshold:\n",
    "        character = \"Broadcasters\"\n",
    "    elif item['category'] == 3 and item['value'] > threshold:\n",
    "        character = \"Definers\"\n",
    "\n",
    "    if character not in matrix:\n",
    "        matrix[character] = 1\n",
    "    else:\n",
    "        matrix[character] += 1\n",
    "\n",
    "print('Thinkers', matrix['Thinkers'], 'Pioneers', matrix['Pioneers'])\n",
    "print('Delegators', matrix['Delegators'], 'Generators', matrix['Generators'])\n",
    "print('Enablers', matrix['Enablers'], 'Teamsters', matrix['Teamsters'])\n",
    "print('Broadcasters', matrix['Broadcasters'], 'Definers', matrix['Definers'])"
   ]
  },
  {
   "cell_type": "markdown",
   "metadata": {},
   "source": [
    "# 4. Generate Nodes group by division"
   ]
  },
  {
   "cell_type": "code",
   "execution_count": 139,
   "metadata": {},
   "outputs": [],
   "source": [
    "FIELD_GROUP_BY = 'boardarea'\n",
    "data_view = f'''select profile.*, p_profile.{FIELD_GROUP_BY} from (select displayname from jam_people_from_post\n",
    "where keyword='{TOPIC_KEYWORD}' and roletype='Creator' and jam_people_from_post.displayname <> 'Alumni'\n",
    "group by jam_people_from_post.displayname having count(postid) >= {POSTS_THRESHOLD}) as people\n",
    "inner join jam_profile as profile on people.displayname = profile.displayname\n",
    "inner join portal_profile as p_profile on profile.username = p_profile.username'''\n",
    "sql = f'''select {FIELD_GROUP_BY}, count(id) from ({data_view}) as t group by t.{FIELD_GROUP_BY} order by t.{FIELD_GROUP_BY}'''"
   ]
  },
  {
   "cell_type": "code",
   "execution_count": 140,
   "metadata": {},
   "outputs": [
    {
     "name": "stdout",
     "output_type": "stream",
     "text": [
      "[(None, 27), ('Cloud Business Group', 111), ('Digital Business Services', 68), ('Finance & Administration', 2), ('Global Business Operations', 15), ('Global Customer Operations', 188), ('Human Resources', 8), ('Office of CEO', 150), ('Products & Innovation', 99)]\n"
     ]
    }
   ],
   "source": [
    "results = engine.execute(sql).fetchall()\n",
    "\n",
    "print(results)"
   ]
  },
  {
   "cell_type": "code",
   "execution_count": 141,
   "metadata": {},
   "outputs": [
    {
     "data": {
      "image/png": "[encoded data removed]",
      "text/plain": [
       "<matplotlib.figure.Figure at 0x10a099a20>"
      ]
     },
     "metadata": {},
     "output_type": "display_data"
    }
   ],
   "source": [
    "from utility import plt_pie\n",
    "\n",
    "values = []\n",
    "labels = []\n",
    "for r in results:\n",
    "    if int(r[1]) > 0:\n",
    "        values.append(int(r[1]))\n",
    "        labels.append(r[0])\n",
    "        \n",
    "plt_pie(values, labels)"
   ]
  },
  {
   "cell_type": "code",
   "execution_count": 142,
   "metadata": {},
   "outputs": [
    {
     "name": "stdout",
     "output_type": "stream",
     "text": [
      "668\n"
     ]
    }
   ],
   "source": [
    "profiles = engine.execute(data_view+f' order by {FIELD_GROUP_BY}').fetchall()\n",
    "\n",
    "print(len(profiles))"
   ]
  },
  {
   "cell_type": "code",
   "execution_count": 153,
   "metadata": {},
   "outputs": [
    {
     "name": "stdout",
     "output_type": "stream",
     "text": [
      "399\n"
     ]
    }
   ],
   "source": [
    "nodes = []\n",
    "\n",
    "for p in profiles:\n",
    "    if (p.displayname in nodes_degree.keys()):\n",
    "        # 设置value和节点大小，依据contribution\n",
    "        value = 0\n",
    "        symbol_size = 5\n",
    "        \n",
    "        item = df_contribution[df_contribution['author']==p.displayname]\n",
    "        if item.size > 0:\n",
    "            value = round(float(item['contribution']),2)\n",
    "            symbol_size = 5+int(item['contribution']/6)\n",
    "        \n",
    "        if p.boardarea == None:\n",
    "            nodes.append({\"name\": p.displayname, \"value\": value, \"symbolSize\": symbol_size, \"category\": 'None'})\n",
    "        else:\n",
    "            nodes.append({\"name\": p.displayname, \"value\": value, \"symbolSize\": symbol_size, \"category\": p.boardarea})\n",
    "\n",
    "# 去掉重复节点\n",
    "nodes = [dict(t) for t in set([tuple(d.items()) for d in nodes])]\n",
    "nodes.remove({'name': 'Jack Wang', 'value': 55.74, 'symbolSize': 14, 'category': 'Products & Innovation'})\n",
    "\n",
    "nodes.sort(key = lambda x:x[\"category\"])\n",
    "\n",
    "print(len(nodes))\n",
    "\n",
    "with open(\"./output/nodes-division.json\",'w',encoding='utf-8') as json_file:\n",
    "    json.dump(nodes,json_file, ensure_ascii=False)"
   ]
  },
  {
   "cell_type": "code",
   "execution_count": 154,
   "metadata": {},
   "outputs": [
    {
     "name": "stdout",
     "output_type": "stream",
     "text": [
      "{'name': 'Jack Wang', 'value': 55.74, 'symbolSize': 14, 'category': 'Global Customer Operations'}\n",
      "{'name': 'Swati Singh', 'value': 57.93, 'symbolSize': 14, 'category': 'Office of CEO'}\n"
     ]
    }
   ],
   "source": [
    "for p in nodes:\n",
    "    if p['name'] in ['Jack Wang','Swati Singh']:\n",
    "        print(p)"
   ]
  },
  {
   "cell_type": "raw",
   "metadata": {},
   "source": [
    "重复，需要移除\n",
    "{'name': 'Jack Wang', 'value': 55.74, 'symbolSize': 14, 'category': 'Products & Innovation'}"
   ]
  },
  {
   "cell_type": "code",
   "execution_count": null,
   "metadata": {},
   "outputs": [],
   "source": []
  }
 ],
 "metadata": {
  "kernelspec": {
   "display_name": "Python 3",
   "language": "python",
   "name": "python3"
  },
  "language_info": {
   "codemirror_mode": {
    "name": "ipython",
    "version": 3
   },
   "file_extension": ".py",
   "mimetype": "text/x-python",
   "name": "python",
   "nbconvert_exporter": "python",
   "pygments_lexer": "ipython3",
   "version": "3.6.3"
  }
 },
 "nbformat": 4,
 "nbformat_minor": 2
}
